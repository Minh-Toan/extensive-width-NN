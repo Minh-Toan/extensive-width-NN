{
 "cells": [
  {
   "cell_type": "code",
   "execution_count": 1,
   "id": "07b94ada-a241-4e1e-8842-ca4e96d0e5fe",
   "metadata": {},
   "outputs": [],
   "source": [
    "import numpy as np\n",
    "import matplotlib.pyplot as plt\n",
    "from scipy.optimize import fsolve\n",
    "import rie_denoising as rie"
   ]
  },
  {
   "cell_type": "code",
   "execution_count": 2,
   "id": "a2fac7ab-1ebf-48b2-8e54-ffa05a41a1e1",
   "metadata": {},
   "outputs": [],
   "source": [
    "def v_generate(k, vlaw):\n",
    "    if vlaw=='ones':\n",
    "        return np.ones(k)\n",
    "    if vlaw=='rad':\n",
    "        l = int(k/2)\n",
    "        return np.array([1]*l + [-1]*(k-l))\n",
    "    if vlaw=='4point':\n",
    "        l = int(k/4)\n",
    "        v3_ = -3*np.sqrt(1/5)*np.ones(l)\n",
    "        v1_ = -np.sqrt(1/5)*np.ones(l)\n",
    "        v1 = np.sqrt(1/5)*np.ones(l)\n",
    "        v3 = 3*np.sqrt(1/5)*np.ones(k-3*l)        \n",
    "        return np.concatenate([v3_, v1_, v1, v3])\n",
    "    if vlaw=='unif':\n",
    "        v = np.linspace(-1,1,k)\n",
    "        return v*np.sqrt(k)/np.linalg.norm(v)\n",
    "    if vlaw=='gauss':\n",
    "        v = np.mean(np.sort(np.random.randn(10000, k)), axis=0)\n",
    "        return v*np.sqrt(k)/np.linalg.norm(v)\n",
    "        \n",
    "        "
   ]
  },
  {
   "cell_type": "code",
   "execution_count": 3,
   "id": "c55e0f14-52d7-4cb8-b9e4-ea0a850baac5",
   "metadata": {},
   "outputs": [
    {
     "name": "stdout",
     "output_type": "stream",
     "text": [
      "CPU times: user 57.7 s, sys: 396 ms, total: 58.1 s\n",
      "Wall time: 2.9 s\n"
     ]
    }
   ],
   "source": [
    "d = 1000\n",
    "a = 0.5\n",
    "t = 0.2\n",
    "vlaw = 'unif'\n",
    "\n",
    "k = int(a*d)\n",
    "W = np.random.randn(k,d)\n",
    "Z = np.random.randn(d,d)\n",
    "Z = (Z+Z.T)/np.sqrt(2*d)\n",
    "v = v_generate(k, vlaw)\n",
    "S = W.T@np.diag(v)@W/k\n",
    "Y = S + np.sqrt(t)*Z\n",
    "%time S_hat = rie.f_RIE(Y, t, a, vlaw)\n"
   ]
  },
  {
   "cell_type": "code",
   "execution_count": 4,
   "id": "c1c87aad-1dc9-4d6e-87ae-30ba3cf8c5d0",
   "metadata": {
    "scrolled": true
   },
   "outputs": [
    {
     "data": {
      "text/plain": [
       "np.float64(0.12361792078164717)"
      ]
     },
     "execution_count": 4,
     "metadata": {},
     "output_type": "execute_result"
    }
   ],
   "source": [
    "np.sum((S-S_hat)**2)/d"
   ]
  },
  {
   "cell_type": "code",
   "execution_count": 5,
   "id": "cd902657-2b70-4253-9101-12a664b9526f",
   "metadata": {},
   "outputs": [
    {
     "name": "stdout",
     "output_type": "stream",
     "text": [
      "CPU times: user 587 ms, sys: 3.99 ms, total: 590 ms\n",
      "Wall time: 589 ms\n"
     ]
    },
    {
     "data": {
      "text/plain": [
       "0.12361593799114762"
      ]
     },
     "execution_count": 5,
     "metadata": {},
     "output_type": "execute_result"
    }
   ],
   "source": [
    "%time rie.F_RIE(t, a, vlaw)"
   ]
  }
 ],
 "metadata": {
  "kernelspec": {
   "display_name": "Python 3 (ipykernel)",
   "language": "python",
   "name": "python3"
  },
  "language_info": {
   "codemirror_mode": {
    "name": "ipython",
    "version": 3
   },
   "file_extension": ".py",
   "mimetype": "text/x-python",
   "name": "python",
   "nbconvert_exporter": "python",
   "pygments_lexer": "ipython3",
   "version": "3.10.16"
  }
 },
 "nbformat": 4,
 "nbformat_minor": 5
}
