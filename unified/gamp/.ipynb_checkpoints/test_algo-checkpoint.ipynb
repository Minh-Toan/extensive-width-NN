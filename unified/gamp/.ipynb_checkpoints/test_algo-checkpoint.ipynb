{
 "cells": [
  {
   "cell_type": "code",
   "execution_count": 1,
   "id": "44a37f09-83b6-421c-b811-bab73b0a973e",
   "metadata": {},
   "outputs": [],
   "source": [
    "import numpy as np\n",
    "from scipy.integrate import quad\n",
    "import rie_denoising as rie\n",
    "import algo\n"
   ]
  },
  {
   "cell_type": "code",
   "execution_count": 2,
   "id": "93560886-0677-49f4-889c-93ed251e1fa6",
   "metadata": {},
   "outputs": [
    {
     "name": "stdout",
     "output_type": "stream",
     "text": [
      "CPU times: user 1min 11s, sys: 624 ms, total: 1min 12s\n",
      "Wall time: 4.21 s\n"
     ]
    },
    {
     "data": {
      "text/plain": [
       "np.float64(0.43137321488931085)"
      ]
     },
     "execution_count": 2,
     "metadata": {},
     "output_type": "execute_result"
    }
   ],
   "source": [
    "d = 150\n",
    "gamma = 0.5\n",
    "Delta = 1.25\n",
    "alpha = 0.8\n",
    "k = int(gamma*d)\n",
    "vlaw = 'ones'\n",
    "prior = 'gauss'\n",
    "\n",
    "f_RIE = lambda R, t: rie.f_RIE(R, t, gamma, vlaw)\n",
    "F_RIE = lambda t: rie.F_RIE(t, gamma, vlaw)\n",
    "\n",
    "\n",
    "# sig = lambda x: np.maximum(x,0) # ReLU\n",
    "# sig = lambda x: np.where(x > 0, x, (np.exp(x) - 1)) # ELU\n",
    "sig = lambda x: (x**2-1)/np.sqrt(2)\n",
    "%time algo.algo_perf(d, gamma, alpha, Delta, f_RIE, F_RIE, sig, vlaw, prior)"
   ]
  }
 ],
 "metadata": {
  "kernelspec": {
   "display_name": "Python 3 (ipykernel)",
   "language": "python",
   "name": "python3"
  },
  "language_info": {
   "codemirror_mode": {
    "name": "ipython",
    "version": 3
   },
   "file_extension": ".py",
   "mimetype": "text/x-python",
   "name": "python",
   "nbconvert_exporter": "python",
   "pygments_lexer": "ipython3",
   "version": "3.10.16"
  }
 },
 "nbformat": 4,
 "nbformat_minor": 5
}
