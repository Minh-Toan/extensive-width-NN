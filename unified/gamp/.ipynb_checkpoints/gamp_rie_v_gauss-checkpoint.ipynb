{
 "cells": [
  {
   "cell_type": "code",
   "execution_count": 1,
   "id": "07b94ada-a241-4e1e-8842-ca4e96d0e5fe",
   "metadata": {},
   "outputs": [],
   "source": [
    "import numpy as np\n",
    "import matplotlib.pyplot as plt\n",
    "from scipy.optimize import fsolve\n",
    "from scipy.integrate import quad, quad_vec\n",
    "from scipy.sparse.linalg import eigsh # computing smallest and largest eigenvalues\n",
    "from scipy.interpolate import AAA\n",
    "import csv\n",
    "\n",
    "import algo\n"
   ]
  },
  {
   "cell_type": "code",
   "execution_count": 2,
   "id": "3d9ef898-14ef-4246-b551-3783432bf2bc",
   "metadata": {},
   "outputs": [],
   "source": [
    "a = 0.5\n",
    "\n",
    "d0 = 1000\n",
    "k0 = int(a*d0)\n",
    "v0 = np.mean(np.sort(np.random.randn(10000, k0)), axis=0)\n",
    "W0 = np.random.randn(k0,d0)\n",
    "Z0 = np.random.randn(d0,d0)\n",
    "Z0 = (Z0+Z0.T)/np.sqrt(2*d0)\n",
    "S0 = W0.T@np.diag(v0)@W0/k0\n",
    "\n",
    "def supp(t):\n",
    "    Y0 = S0 + np.sqrt(t)*Z0\n",
    "    eigmin = eigsh(Y0, k=1, which='SA', return_eigenvectors=False)[0]\n",
    "    eigmax = eigsh(Y0, k=1, which='LA', return_eigenvectors=False)[0]\n",
    "    return eigmin, eigmax\n",
    "\n",
    "def R(s): \n",
    "    func = lambda x: a*x/(a-s*x)*np.exp(-x**2/2)\n",
    "    return quad_vec(func, -10, 10)[0]/np.sqrt(2*np.pi)\n",
    "\n",
    "samples = np.linspace(-3, 3, 21) - 1e-6*1j\n",
    "R_approx = AAA(samples, R(samples))\n",
    "\n",
    "def stieltjes(x, t):\n",
    "    def eq(g):\n",
    "        g = g[0] + 1j*g[1]\n",
    "        eq = R_approx(-g) - t*g - 1/g - x\n",
    "        return [eq.real, eq.imag]\n",
    "    eps = 1e-4\n",
    "    init = [-eps, eps] if x>=0 else [eps, eps]\n",
    "    sol = fsolve(eq, init)\n",
    "    return sol[0] + abs(sol[1])*1j\n",
    "\n",
    "def f_RIE(R, t):\n",
    "    if t<1e-6:\n",
    "        return R\n",
    "    h = lambda x: -stieltjes(x-1e-6j, t).real\n",
    "    eigval, eigvec = np.linalg.eigh(R)\n",
    "    eigval_denoised = np.array([e - 2*t*h(e) for e in eigval])\n",
    "    return eigvec@np.diag(eigval_denoised)@eigvec.T\n",
    "\n",
    "def F_RIE(t):\n",
    "    xmin, xmax = supp(t)\n",
    "    rho = lambda x: stieltjes(x, t).imag/np.pi\n",
    "    return t - 4*np.pi**2/3 * t**2 * quad(lambda x: rho(x)**3, xmin, xmax)[0]"
   ]
  },
  {
   "cell_type": "markdown",
   "id": "5fa3cd0c-8b23-4064-8e61-ec699885837a",
   "metadata": {},
   "source": [
    "### RIE"
   ]
  },
  {
   "cell_type": "code",
   "execution_count": 7,
   "id": "c55e0f14-52d7-4cb8-b9e4-ea0a850baac5",
   "metadata": {},
   "outputs": [],
   "source": [
    "t = 2\n",
    "\n",
    "d = 1000\n",
    "k = int(a*d)\n",
    "v = np.random.randn(k)\n",
    "W = np.random.randn(k,d)\n",
    "Z = np.random.randn(d,d)\n",
    "Z = (Z+Z.T)/np.sqrt(2*d)\n",
    "S = W.T@np.diag(v)@W/k\n",
    "Y = S + np.sqrt(t)*Z"
   ]
  },
  {
   "cell_type": "code",
   "execution_count": 8,
   "id": "bda1b960-7afd-44ce-91dd-b22f1138e0ef",
   "metadata": {},
   "outputs": [
    {
     "data": {
      "image/png": "[encoded data removed]",
      "text/plain": [
       "<Figure size 640x480 with 1 Axes>"
      ]
     },
     "metadata": {},
     "output_type": "display_data"
    }
   ],
   "source": [
    "xmin, xmax = supp(t)\n",
    "rho = lambda x: stieltjes(x, t).imag/np.pi\n",
    "xs = np.linspace(xmin, xmax, 201)\n",
    "rhos = [rho(x) for x in xs]\n",
    "\n",
    "eigvals = np.linalg.eigvalsh(Y)\n",
    "plt.hist(eigvals, density=1, bins = 50)\n",
    "\n",
    "plt.plot(xs, rhos)\n",
    "plt.show()"
   ]
  },
  {
   "cell_type": "code",
   "execution_count": 9,
   "id": "c1c87aad-1dc9-4d6e-87ae-30ba3cf8c5d0",
   "metadata": {},
   "outputs": [
    {
     "data": {
      "text/plain": [
       "(np.float64(0.6881019033253751), 0.6868010193506338)"
      ]
     },
     "execution_count": 9,
     "metadata": {},
     "output_type": "execute_result"
    }
   ],
   "source": [
    "S_hat = f_RIE(Y, t)\n",
    "np.sum((S-S_hat)**2)/d, F_RIE(t)"
   ]
  },
  {
   "cell_type": "markdown",
   "id": "fc41c8e2-0ac9-4257-a06b-baea6d5b4ce9",
   "metadata": {},
   "source": [
    "### GAMP-RIE"
   ]
  },
  {
   "cell_type": "code",
   "execution_count": null,
   "id": "5db29902-b72e-47ed-bac8-53ca258830f7",
   "metadata": {},
   "outputs": [],
   "source": [
    "d = 150\n",
    "gamma = a \n",
    "Delta = 0.1\n",
    "k = int(gamma*d)\n",
    "\n",
    "sig = lambda x: np.maximum(x,0)\n",
    "# sig = lambda x: np.tanh(2*x)\n",
    "# sig = lambda x: np.where(x > 0, x, (np.exp(x) - 1))\n",
    "\n",
    "vlaw = 'gauss'\n",
    "prior = 'gauss'\n",
    "\n",
    "\n",
    "alphas = [0.375, 1.375, 2.375, 3.375, 4.375, 5.375, 6.375]\n",
    "\n",
    "with open(f'relu_{vlaw}.csv', 'a', newline='') as file:\n",
    "    writer = csv.writer(file)\n",
    "    for i in range(9):\n",
    "        mmses = [algo.algo_perf(d, gamma, alpha, Delta, f_RIE, F_RIE, sig, vlaw, prior) for alpha in alphas]\n",
    "        writer.writerow(mmses)\n",
    "        file.flush()\n",
    "\n"
   ]
  }
 ],
 "metadata": {
  "kernelspec": {
   "display_name": "Python 3 (ipykernel)",
   "language": "python",
   "name": "python3"
  },
  "language_info": {
   "codemirror_mode": {
    "name": "ipython",
    "version": 3
   },
   "file_extension": ".py",
   "mimetype": "text/x-python",
   "name": "python",
   "nbconvert_exporter": "python",
   "pygments_lexer": "ipython3",
   "version": "3.10.16"
  }
 },
 "nbformat": 4,
 "nbformat_minor": 5
}
