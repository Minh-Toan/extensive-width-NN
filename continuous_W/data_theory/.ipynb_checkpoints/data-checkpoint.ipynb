{
 "cells": [
  {
   "cell_type": "code",
   "execution_count": 1,
   "id": "8d703892-5bd3-4204-b0ec-900a6e460590",
   "metadata": {},
   "outputs": [],
   "source": [
    "import numpy as np\n",
    "import sys\n",
    "import os\n",
    "folder = os.path.abspath(os.path.join(os.getcwd(), '..'))\n",
    "sys.path.insert(0, folder)\n",
    "\n",
    "import theory2\n",
    "import csv"
   ]
  },
  {
   "cell_type": "code",
   "execution_count": 2,
   "id": "c90c809a-d0dd-4121-8282-14f1d64fd7d9",
   "metadata": {},
   "outputs": [],
   "source": [
    "gamma = 0.5\n",
    "Delta = 1.25\n",
    "vlaw = 'ones'\n",
    "prior = 'gauss'\n",
    "alphas = np.linspace(0, 8, 201)\n",
    "activation='h23'\n",
    "# sig = lambda x: np.maximum(x,0)\n",
    "sig = lambda x: (x**2-1)/np.sqrt(2) + (x**3-3*x)/6\n",
    "# sig = lambda x: (x**3-3*x)/np.sqrt(6)\n",
    "# sig = lambda x: np.heaviside(x,1)*x + np.heaviside(-x,1)*(np.exp(x) - 1)"
   ]
  },
  {
   "cell_type": "code",
   "execution_count": 3,
   "id": "e357f7fc-c938-4a12-bc79-96bd0dbdbbb0",
   "metadata": {},
   "outputs": [],
   "source": [
    "uni_results = [theory2.uni_quantities(vlaw, sig, alpha, gamma, Delta) for alpha in alphas]\n",
    "sp_results = [theory2.sp_quantities(sig, alpha, gamma, Delta, vlaw, prior) for alpha in alphas]"
   ]
  },
  {
   "cell_type": "code",
   "execution_count": 4,
   "id": "6b5c976f-cb98-4f53-a96c-8b908d03939b",
   "metadata": {},
   "outputs": [],
   "source": [
    "with open(fr'{activation}_Delta_{Delta}_gamma_{gamma}_v_{vlaw}_uni.csv', mode=\"w\", newline=\"\", encoding=\"utf-8\") as file:\n",
    "    writer = csv.DictWriter(file, fieldnames=uni_results[0].keys())\n",
    "    writer.writeheader()\n",
    "    writer.writerows(uni_results)\n",
    "    \n",
    "with open(fr'{activation}_Delta_{Delta}_gamma_{gamma}_v_{vlaw}_sp.csv', mode=\"w\", newline=\"\", encoding=\"utf-8\") as file:\n",
    "    writer = csv.DictWriter(file, fieldnames=sp_results[0].keys())\n",
    "    writer.writeheader()\n",
    "    writer.writerows(sp_results)"
   ]
  }
 ],
 "metadata": {
  "kernelspec": {
   "display_name": "Python 3 (ipykernel)",
   "language": "python",
   "name": "python3"
  },
  "language_info": {
   "codemirror_mode": {
    "name": "ipython",
    "version": 3
   },
   "file_extension": ".py",
   "mimetype": "text/x-python",
   "name": "python",
   "nbconvert_exporter": "python",
   "pygments_lexer": "ipython3",
   "version": "3.10.16"
  }
 },
 "nbformat": 4,
 "nbformat_minor": 5
}
