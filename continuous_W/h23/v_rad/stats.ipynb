{
 "cells": [
  {
   "cell_type": "code",
   "execution_count": 1,
   "id": "8eb6f8cd-5029-43bb-9984-b4348ed6366f",
   "metadata": {},
   "outputs": [],
   "source": [
    "import numpy as np\n",
    "import csv\n",
    "\n",
    "# alphas = [0.5, 1, 1.25, 1.75, 2, 2.5, 3, 3.5, 4, 4.5, 5, 5.5, 6, 6.5, 7, 7.5, 8]\n",
    "alphas = [0.5, 1, 1.5, 2, 2.5, 3, 3.5, 4, 4.5, 5, 5.5, 6, 6.5, 7, 7.5, 8]\n",
    "info = np.loadtxt('alpha_0.5_8_info.csv', delimiter=',')\n",
    "unfo = np.loadtxt('alpha_0.5_8_unfo.csv', delimiter=',')\n",
    "info_mean = np.mean(info, axis=0).astype(np.float32)\n",
    "unfo_mean = np.mean(unfo, axis=0).astype(np.float32)\n",
    "info_std = np.std(info, axis=0).astype(np.float32)\n",
    "unfo_std = np.std(unfo, axis=0).astype(np.float32)\n",
    "stats = {'alpha': alphas,\n",
    "        'info_mean': info_mean,\n",
    "        'unfo_mean': unfo_mean,\n",
    "        'info_std': info_std,\n",
    "        'unfo_std': unfo_std}\n",
    "\n",
    "with open(\"stats.csv\", mode=\"w\", newline=\"\") as file:\n",
    "    writer = csv.DictWriter(file, fieldnames=stats.keys())\n",
    "    writer.writeheader()\n",
    "    writer.writerows(dict(zip(stats.keys(), values)) for values in zip(*stats.values()))"
   ]
  }
 ],
 "metadata": {
  "kernelspec": {
   "display_name": "Python 3 (ipykernel)",
   "language": "python",
   "name": "python3"
  },
  "language_info": {
   "codemirror_mode": {
    "name": "ipython",
    "version": 3
   },
   "file_extension": ".py",
   "mimetype": "text/x-python",
   "name": "python",
   "nbconvert_exporter": "python",
   "pygments_lexer": "ipython3",
   "version": "3.10.16"
  }
 },
 "nbformat": 4,
 "nbformat_minor": 5
}
