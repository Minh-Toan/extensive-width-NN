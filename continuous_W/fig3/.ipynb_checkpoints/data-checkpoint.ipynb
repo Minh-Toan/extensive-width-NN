{
 "cells": [
  {
   "cell_type": "code",
   "execution_count": 2,
   "id": "9c55f466-6fe7-4224-a609-6c6dcf37df0f",
   "metadata": {},
   "outputs": [],
   "source": [
    "import numpy as np\n",
    "import tensorflow as tf\n",
    "\n",
    "import matplotlib\n",
    "matplotlib.rcParams['text.usetex'] = True\n",
    "import matplotlib.pyplot as plt\n",
    "\n",
    "import sys\n",
    "import os\n",
    "folder = os.path.abspath(os.path.join(os.getcwd(), '..'))\n",
    "sys.path.insert(0, folder)\n",
    "import theory2\n",
    "import hmc2"
   ]
  },
  {
   "cell_type": "code",
   "execution_count": 3,
   "id": "bb2677e5-f80d-4cef-85bd-badd4317017f",
   "metadata": {},
   "outputs": [],
   "source": [
    "def overlaps(Ws, W0, v):\n",
    "    c1=v.T@np.power(W0@W0.T, 1)@v\n",
    "    c2=v.T@np.power(W0@W0.T, 2)@v\n",
    "    c3=v.T@np.power(W0@W0.T, 3)@v\n",
    "    c4=v.T@np.power(W0@W0.T, 4)@v\n",
    "    c5=v.T@np.power(W0@W0.T, 5)@v\n",
    "    cw=np.sum(W0*W0)\n",
    "    \n",
    "    q1s = np.array([v.T@np.power(W0@W.T, 1)@v/c1 for W in Ws])\n",
    "    q2s = np.array([v.T@np.power(W0@W.T, 2)@v/c2 for W in Ws])\n",
    "    q3s = np.array([v.T@np.power(W0@W.T, 3)@v/c3 for W in Ws])\n",
    "    q4s = np.array([v.T@np.power(W0@W.T, 4)@v/c4 for W in Ws])\n",
    "    q5s = np.array([v.T@np.power(W0@W.T, 5)@v/c5 for W in Ws])\n",
    "    qws = np.array([np.sum(W0*W)/cw for W in Ws])\n",
    "\n",
    "    return q1s, q2s, q3s, q4s, q5s, qws\n",
    "\n"
   ]
  },
  {
   "cell_type": "code",
   "execution_count": 4,
   "id": "c58c2f03-5fe0-492a-8290-78f7bdf5f603",
   "metadata": {},
   "outputs": [],
   "source": [
    "device='/GPU:1'\n",
    "\n",
    "d = 200\n",
    "gamma = 0.5\n",
    "k = int(gamma*d)\n",
    "alpha = 5\n",
    "Delta = 1.25\n",
    "vlaw = 'radd'\n",
    "prior= 'gauss'\n",
    "\n",
    "sig = lambda x: x + (x**2 - 1)/np.sqrt(2.0) + (x**3 - 3*x)/6\n",
    "sp_quantities = theory2.sp_quantities(sig, alpha, gamma, Delta, vlaw, prior)\n",
    "uni_quantities = theory2.uni_quantities(vlaw, sig, alpha, gamma, Delta)"
   ]
  },
  {
   "cell_type": "code",
   "execution_count": 5,
   "id": "112f4148-1ab5-4b09-a7d9-ae637d7b8a5b",
   "metadata": {
    "scrolled": true
   },
   "outputs": [
    {
     "name": "stderr",
     "output_type": "stream",
     "text": [
      "I0000 00:00:1743595938.158833 3324138 gpu_device.cc:2022] Created device /job:localhost/replica:0/task:0/device:GPU:0 with 837 MB memory:  -> device: 0, name: NVIDIA RTX A4000, pci bus id: 0000:17:00.0, compute capability: 8.6\n",
      "I0000 00:00:1743595938.160427 3324138 gpu_device.cc:2022] Created device /job:localhost/replica:0/task:0/device:GPU:1 with 14077 MB memory:  -> device: 1, name: NVIDIA RTX A4000, pci bus id: 0000:65:00.0, compute capability: 8.6\n"
     ]
    },
    {
     "name": "stdout",
     "output_type": "stream",
     "text": [
      "Acceptance rate: 0.7135\n"
     ]
    }
   ],
   "source": [
    "params = {'step_size': 0.01,\n",
    "          'num_leapfrog_steps': 10,\n",
    "          'num_adaptation_steps': 2000,\n",
    "          'num_post_adapt_steps': 0}\n",
    "\n",
    "with tf.device(device):\n",
    "    W0, X, Y, v = hmc2.data_generate(d, gamma, alpha, Delta, sig, vlaw)\n",
    "    Ws_info = hmc2.hmc(params, W0, X, Y, v, gamma, alpha, Delta, sig, show_acceptance_rate=True, show_adaptation_steps=True)\n",
    "    Ws_info, W0, v = Ws_info.numpy(), W0.numpy(), v.numpy()"
   ]
  },
  {
   "cell_type": "code",
   "execution_count": 6,
   "id": "17de42c2-5194-452c-a754-3270951bc0a8",
   "metadata": {},
   "outputs": [],
   "source": [
    "q1s, q2s, q3s, q4s, q5s, qws = overlaps(Ws_info, W0, v)"
   ]
  },
  {
   "cell_type": "code",
   "execution_count": 14,
   "id": "cc8000d9-5864-4374-8c2b-3bb7c89a8dc1",
   "metadata": {},
   "outputs": [],
   "source": [
    "# data_uni = np.array([q1s, q2s, q3s, q4s, q5s, qws])\n",
    "# np.savetxt('data_uni.csv', data_uni, delimiter=',')"
   ]
  },
  {
   "cell_type": "code",
   "execution_count": 88,
   "id": "3a4078b7-454d-40b4-8ff4-d9b935bd34d5",
   "metadata": {},
   "outputs": [],
   "source": [
    "# data_sp = np.array([q1s, q2s, q3s, q4s, q5s, qws])\n",
    "# np.savetxt('data_sp.csv', data_sp, delimiter=',')"
   ]
  }
 ],
 "metadata": {
  "kernelspec": {
   "display_name": "Python 3 (ipykernel)",
   "language": "python",
   "name": "python3"
  },
  "language_info": {
   "codemirror_mode": {
    "name": "ipython",
    "version": 3
   },
   "file_extension": ".py",
   "mimetype": "text/x-python",
   "name": "python",
   "nbconvert_exporter": "python",
   "pygments_lexer": "ipython3",
   "version": "3.10.16"
  }
 },
 "nbformat": 4,
 "nbformat_minor": 5
}
