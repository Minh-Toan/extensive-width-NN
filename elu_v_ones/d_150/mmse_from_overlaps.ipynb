{
 "cells": [
  {
   "cell_type": "code",
   "execution_count": 8,
   "id": "7aed801b-a0f4-4aed-88dc-9ec57c6f479d",
   "metadata": {},
   "outputs": [],
   "source": [
    "import numpy as np\n",
    "import csv\n",
    "\n",
    "import sys\n",
    "import os\n",
    "folder = os.path.abspath(os.path.join(os.getcwd(), '..', '..'))\n",
    "sys.path.insert(0, folder)\n",
    "\n",
    "import activations as act"
   ]
  },
  {
   "cell_type": "code",
   "execution_count": 9,
   "id": "914ee01c-69b3-4dd0-b89c-534dac2d9886",
   "metadata": {},
   "outputs": [],
   "source": [
    "def csv_to_dict(filename):\n",
    "    with open(filename, 'r') as file:\n",
    "        reader = csv.DictReader(file)\n",
    "        data = {header: [] for header in reader.fieldnames}\n",
    "        for row in reader:\n",
    "            for header in reader.fieldnames:\n",
    "                data[header].append(float(row[header]))\n",
    "        data = {key: np.array(value) for key, value in data.items()}\n",
    "    return data"
   ]
  },
  {
   "cell_type": "code",
   "execution_count": 10,
   "id": "cced2990-f7ac-47d3-86f9-d92a971cdc35",
   "metadata": {},
   "outputs": [],
   "source": [
    "_, _, mu = act.gg('ELU')\n",
    "data = csv_to_dict('data.csv')\n",
    "result = {'alpha': [],\n",
    "         'mean_mmse':[],\n",
    "         'std_mmse': []}"
   ]
  },
  {
   "cell_type": "code",
   "execution_count": 11,
   "id": "30e779ef-4b89-4207-bdd5-24efde17a70c",
   "metadata": {},
   "outputs": [],
   "source": [
    "alphas = np.unique(data['alpha'])\n",
    "\n",
    "for alpha in alphas:\n",
    "    if not (alpha in {0.1, 0.3}):\n",
    "        pos = np.where(data['alpha']==alpha)\n",
    "        e1s = data['e1'][pos]\n",
    "        e2s = data['e2'][pos]\n",
    "        e3s = data['e3'][pos]\n",
    "        e4s = data['e4'][pos]\n",
    "        e5s = data['e5'][pos]\n",
    "        e6s = data['e6'][pos]\n",
    "        mmses = mu[1]**2*e1s + mu[2]**2*e2s/2 + mu[3]**2*e3s/6 + mu[4]**2*e4s/24 + mu[5]**2*e5s/120 + mu[6]**2*e6s/720\n",
    "        mmse_mean = np.mean(mmses)\n",
    "        mmse_std = np.std(mmses)\n",
    "        result['alpha'].append(alpha)\n",
    "        result['mean_mmse'].append(mmse_mean)\n",
    "        result['std_mmse'].append(mmse_std)"
   ]
  },
  {
   "cell_type": "code",
   "execution_count": 12,
   "id": "54d05d93-dd34-4768-8993-db5abe6bf6e6",
   "metadata": {},
   "outputs": [],
   "source": [
    "with open(\"result.csv\", mode=\"w\", newline=\"\") as file:\n",
    "    writer = csv.DictWriter(file, fieldnames=result.keys())\n",
    "    writer.writeheader()\n",
    "    writer.writerows(dict(zip(result.keys(), values)) for values in zip(*result.values()))"
   ]
  }
 ],
 "metadata": {
  "kernelspec": {
   "display_name": "Python 3 (ipykernel)",
   "language": "python",
   "name": "python3"
  },
  "language_info": {
   "codemirror_mode": {
    "name": "ipython",
    "version": 3
   },
   "file_extension": ".py",
   "mimetype": "text/x-python",
   "name": "python",
   "nbconvert_exporter": "python",
   "pygments_lexer": "ipython3",
   "version": "3.8.10"
  }
 },
 "nbformat": 4,
 "nbformat_minor": 5
}
