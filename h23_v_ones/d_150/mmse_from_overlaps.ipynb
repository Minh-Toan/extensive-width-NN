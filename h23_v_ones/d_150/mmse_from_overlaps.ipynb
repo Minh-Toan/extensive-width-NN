{
 "cells": [
  {
   "cell_type": "code",
   "execution_count": 1,
   "id": "962fbf66-1378-419f-be65-475710860899",
   "metadata": {},
   "outputs": [],
   "source": [
    "import numpy as np\n",
    "import csv\n",
    "\n",
    "import sys\n",
    "import os\n",
    "folder = os.path.abspath(os.path.join(os.getcwd(), '..', '..'))\n",
    "sys.path.insert(0, folder)\n",
    "\n",
    "import theory_universal as uni\n",
    "import theory_specialization as spe"
   ]
  },
  {
   "cell_type": "code",
   "execution_count": 8,
   "id": "f5d511e3-3830-4917-85c1-39eda4c2acef",
   "metadata": {},
   "outputs": [],
   "source": [
    "phi = lambda x: x**2/np.sqrt(2) + (x**3-3*x)/6\n",
    "kappa = 0.5\n",
    "Delta = 1.25\n",
    "\n",
    "result = {'alpha': [],\n",
    "         'mean_mmse': [],\n",
    "         'std_mmse': []}\n"
   ]
  },
  {
   "cell_type": "code",
   "execution_count": 9,
   "id": "28d88f11-9810-47a3-91bb-2a7d5d9748f0",
   "metadata": {},
   "outputs": [],
   "source": [
    "alphas = [0.2, 0.4, 0.6, 0.8, 1.0, 1.2]\n",
    "\n",
    "for alpha in alphas:\n",
    "    q2s = np.loadtxt(f'overlaps_alpha_{alpha}.csv', delimiter=',')\n",
    "    mmses = [uni.mmse(phi, q2) for q2 in q2s]\n",
    "    mmse_mean, mmse_std = np.mean(mmses), np.std(mmses)\n",
    "    result['alpha'].append(alpha)\n",
    "    result['mean_mmse'].append(mmse_mean)\n",
    "    result['std_mmse'].append(mmse_std)"
   ]
  },
  {
   "cell_type": "code",
   "execution_count": 10,
   "id": "f7b2e14d-b766-45f1-88d4-e00401d1aafe",
   "metadata": {},
   "outputs": [],
   "source": [
    "alphas = [1.5, 1.6, 1.7, 1.8, 1.9, 2.0, 2.2, 2.4]\n",
    "activation = 'Quadratic + Cubic'\n",
    "for alpha in alphas:\n",
    "    data = np.loadtxt(f'overlaps_alpha_{alpha}.csv', delimiter=',')\n",
    "    qws, q2s = data[:, 0], data[:, 1]\n",
    "    mmses = [spe.mmse(activation, qw, q2) for qw, q2 in zip(qws, q2s)]\n",
    "    mmse_mean, mmse_std = np.mean(mmses), np.std(mmses)\n",
    "    result['alpha'].append(alpha)\n",
    "    result['mean_mmse'].append(mmse_mean)\n",
    "    result['std_mmse'].append(mmse_std)\n"
   ]
  },
  {
   "cell_type": "code",
   "execution_count": 11,
   "id": "ba719e1f-1b80-47d8-b715-2b7a76546871",
   "metadata": {},
   "outputs": [],
   "source": [
    "alphas = [2.6, 2.8, 3.0, 3.2]\n",
    "activation = 'Quadratic + Cubic'\n",
    "qw_data = np.loadtxt('qw_alpha_2.6_3.4.csv', delimiter=',')\n",
    "q2_data = np.loadtxt('q2_alpha_2.6_3.4.csv', delimiter=',')\n",
    "mmse_data = []\n",
    "\n",
    "for i in range(len(qw_data)):\n",
    "    mmses = [spe.mmse(activation, qw, q2) for qw, q2 in zip(qw_data[i], q2_data[i])]\n",
    "    mmse_data.append(mmses)\n",
    "\n",
    "result['alpha'] += alphas\n",
    "result['mean_mmse'] += list(np.mean(mmse_data, axis=0))\n",
    "result['std_mmse'] += list(np.std(mmse_data, axis=0))\n"
   ]
  },
  {
   "cell_type": "code",
   "execution_count": 12,
   "id": "e228b076-1f06-41ee-8333-2b73dd2ce753",
   "metadata": {},
   "outputs": [],
   "source": [
    "with open(\"result.csv\", mode=\"w\", newline=\"\") as file:\n",
    "    writer = csv.DictWriter(file, fieldnames=result.keys())\n",
    "    writer.writeheader()\n",
    "    writer.writerows(dict(zip(result.keys(), values)) for values in zip(*result.values()))"
   ]
  }
 ],
 "metadata": {
  "kernelspec": {
   "display_name": "Python 3 (ipykernel)",
   "language": "python",
   "name": "python3"
  },
  "language_info": {
   "codemirror_mode": {
    "name": "ipython",
    "version": 3
   },
   "file_extension": ".py",
   "mimetype": "text/x-python",
   "name": "python",
   "nbconvert_exporter": "python",
   "pygments_lexer": "ipython3",
   "version": "3.8.10"
  }
 },
 "nbformat": 4,
 "nbformat_minor": 5
}
