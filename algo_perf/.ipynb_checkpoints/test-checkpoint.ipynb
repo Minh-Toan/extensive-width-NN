{
 "cells": [
  {
   "cell_type": "code",
   "execution_count": 2,
   "id": "a3c7b9ef-e461-4dc4-97e9-e778ba59ef58",
   "metadata": {},
   "outputs": [],
   "source": [
    "import numpy as np\n",
    "\n",
    "import sys\n",
    "import os\n",
    "folder = os.path.abspath(os.path.join(os.getcwd(), '..'))\n",
    "sys.path.insert(0, folder)\n",
    "\n",
    "import algo\n",
    "import theory_universal as uni"
   ]
  },
  {
   "cell_type": "code",
   "execution_count": 6,
   "id": "3d848431-a6cd-4ce0-b799-3fca8ad46651",
   "metadata": {},
   "outputs": [
    {
     "data": {
      "text/plain": [
       "0.019783883790878486"
      ]
     },
     "execution_count": 6,
     "metadata": {},
     "output_type": "execute_result"
    }
   ],
   "source": [
    "d = 150\n",
    "gamma = 0.5\n",
    "alpha = 4\n",
    "Delta = 0.1\n",
    "phi = lambda x: np.maximum(x,0) # ReLU\n",
    "# phi = lambda x: np.where(x > 0, x, (np.exp(x) - 1)) # ELU \n",
    "m = int(gamma*d)\n",
    "v = np.ones(m)\n",
    "\n",
    "algo.algo_perf(d, gamma, alpha, Delta, phi, v)"
   ]
  },
  {
   "cell_type": "code",
   "execution_count": 8,
   "id": "efe45176-70c6-4f4b-aec5-7afbf12588a6",
   "metadata": {},
   "outputs": [
    {
     "data": {
      "text/plain": [
       "0.02048464576945981"
      ]
     },
     "execution_count": 8,
     "metadata": {},
     "output_type": "execute_result"
    }
   ],
   "source": [
    "vlaw = 'ones'\n",
    "activation='ReLU'\n",
    "uni.quantities(vlaw, activation, alpha, gamma, Delta)['mmse']"
   ]
  }
 ],
 "metadata": {
  "kernelspec": {
   "display_name": "Python 3 (ipykernel)",
   "language": "python",
   "name": "python3"
  },
  "language_info": {
   "codemirror_mode": {
    "name": "ipython",
    "version": 3
   },
   "file_extension": ".py",
   "mimetype": "text/x-python",
   "name": "python",
   "nbconvert_exporter": "python",
   "pygments_lexer": "ipython3",
   "version": "3.8.10"
  }
 },
 "nbformat": 4,
 "nbformat_minor": 5
}
