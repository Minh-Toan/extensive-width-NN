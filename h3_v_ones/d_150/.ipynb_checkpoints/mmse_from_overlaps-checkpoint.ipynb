{
 "cells": [
  {
   "cell_type": "code",
   "execution_count": 1,
   "id": "7ad9eacb-78b4-492f-bda1-bcd2a3afe43c",
   "metadata": {},
   "outputs": [],
   "source": [
    "import numpy as np\n",
    "import csv\n",
    "\n",
    "import sys\n",
    "import os\n",
    "folder = os.path.abspath(os.path.join(os.getcwd(), '..', '..'))\n",
    "sys.path.insert(0, folder)\n",
    "\n",
    "import theory_universal as uni\n",
    "import theory_specialization as spe"
   ]
  },
  {
   "cell_type": "code",
   "execution_count": 2,
   "id": "70ba7df7-52da-4ce5-b825-7f7721ed672b",
   "metadata": {},
   "outputs": [],
   "source": [
    "result = {'alpha': [],\n",
    "         'mean_mmse': [],\n",
    "         'std_mmse': []}"
   ]
  },
  {
   "cell_type": "code",
   "execution_count": 3,
   "id": "1f32e763-c9bd-4ded-8e92-7203d1fdfa42",
   "metadata": {},
   "outputs": [],
   "source": [
    "# alphas = [0.2, 0.4, 0.6, 0.8, 1.0]\n",
    "# mmse_data = np.loadtxt('e3_alpha_0.2_1.0.csv', delimiter=',')\n",
    "\n",
    "# result['alpha'] += alphas\n",
    "# result['mean_mmse'] += list(np.mean(mmse_data, axis=0))\n",
    "# result['std_mmse'] += list(np.std(mmse_data, axis=0))"
   ]
  },
  {
   "cell_type": "code",
   "execution_count": 4,
   "id": "e017b87a-af0f-4995-8fe2-a4de0e66cfdf",
   "metadata": {},
   "outputs": [],
   "source": [
    "alphas = [0.2, 0.4, 0.6, 0.8, 1.0]\n",
    "qw_data = np.loadtxt('qw_alpha_0.2_1.0.csv', delimiter=',')\n",
    "mmse_data = []\n",
    "\n",
    "for i in range(len(qw_data)):\n",
    "    mmses = [spe.mmse('Linear + Cubic', qw, 0) for qw in qw_data[i] ]\n",
    "    mmse_data.append(mmses)\n",
    "\n",
    "result['alpha'] += alphas\n",
    "result['mean_mmse'] += list(np.mean(mmse_data, axis=0))\n",
    "result['std_mmse'] += list(np.std(mmse_data, axis=0))"
   ]
  },
  {
   "cell_type": "code",
   "execution_count": 5,
   "id": "03c15e9a-04be-416d-928a-e9ebc653a332",
   "metadata": {},
   "outputs": [],
   "source": [
    "alphas = [1.3, 1.4, 1.5, 1.7, 1.9, 2.1, 2.3]\n",
    "qw_data = np.loadtxt('qw_alpha_1.3_2.3.csv', delimiter=',')\n",
    "q2_data = np.loadtxt('q2_alpha_1.3_2.3.csv', delimiter=',')\n",
    "mmse_data = []\n",
    "\n",
    "for i in range(len(qw_data)):\n",
    "    mmses = [spe.mmse('Linear + Cubic', qw, q2) for qw, q2 in zip(qw_data[i], q2_data[i])]\n",
    "    mmse_data.append(mmses)\n",
    "\n",
    "result['alpha'] += alphas\n",
    "result['mean_mmse'] += list(np.mean(mmse_data, axis=0))\n",
    "result['std_mmse'] += list(np.std(mmse_data, axis=0))"
   ]
  },
  {
   "cell_type": "code",
   "execution_count": 6,
   "id": "1a78f106-25ac-4bcc-90d3-79994c71d040",
   "metadata": {},
   "outputs": [],
   "source": [
    "alphas = [2.5, 2.7, 2.9]\n",
    "qw_data = np.loadtxt('qw_alpha_2.5_2.9.csv', delimiter=',')\n",
    "q2_data = np.loadtxt('q2_alpha_2.5_2.9.csv', delimiter=',')\n",
    "mmse_data = []\n",
    "\n",
    "for i in range(len(qw_data)):\n",
    "    mmses = [spe.mmse('Linear + Cubic', qw, q2) for qw, q2 in zip(qw_data[i], q2_data[i])]\n",
    "    mmse_data.append(mmses)\n",
    "\n",
    "result['alpha'] += alphas\n",
    "result['mean_mmse'] += list(np.mean(mmse_data, axis=0))\n",
    "result['std_mmse'] += list(np.std(mmse_data, axis=0))"
   ]
  },
  {
   "cell_type": "code",
   "execution_count": 7,
   "id": "ef255a67-ad09-41b6-a02d-e66ecccc5ce7",
   "metadata": {},
   "outputs": [],
   "source": [
    "alphas = [1.6, 1.8]\n",
    "qw_data = np.loadtxt('qw_alpha_1.6_1.8.csv', delimiter=',')\n",
    "q2_data = np.loadtxt('q2_alpha_1.6_1.8.csv', delimiter=',')\n",
    "mmse_data = []\n",
    "\n",
    "for i in range(len(qw_data)):\n",
    "    mmses = [spe.mmse('Linear + Cubic', qw, q2) for qw, q2 in zip(qw_data[i], q2_data[i])]\n",
    "    mmse_data.append(mmses)\n",
    "\n",
    "result['alpha'] += alphas\n",
    "result['mean_mmse'] += list(np.mean(mmse_data, axis=0))\n",
    "result['std_mmse'] += list(np.std(mmse_data, axis=0))"
   ]
  },
  {
   "cell_type": "code",
   "execution_count": 8,
   "id": "ac8d0b75-9fdd-4075-b4ce-efeefbf41d21",
   "metadata": {},
   "outputs": [],
   "source": [
    "with open(\"result.csv\", mode=\"w\", newline=\"\") as file:\n",
    "    writer = csv.DictWriter(file, fieldnames=result.keys())\n",
    "    writer.writeheader()\n",
    "    writer.writerows(dict(zip(result.keys(), values)) for values in zip(*result.values()))"
   ]
  }
 ],
 "metadata": {
  "kernelspec": {
   "display_name": "Python 3 (ipykernel)",
   "language": "python",
   "name": "python3"
  },
  "language_info": {
   "codemirror_mode": {
    "name": "ipython",
    "version": 3
   },
   "file_extension": ".py",
   "mimetype": "text/x-python",
   "name": "python",
   "nbconvert_exporter": "python",
   "pygments_lexer": "ipython3",
   "version": "3.8.10"
  }
 },
 "nbformat": 4,
 "nbformat_minor": 5
}
