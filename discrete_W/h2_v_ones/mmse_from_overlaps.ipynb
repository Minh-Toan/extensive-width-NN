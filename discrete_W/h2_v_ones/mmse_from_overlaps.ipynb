{
 "cells": [
  {
   "cell_type": "code",
   "execution_count": 1,
   "id": "7a5cf03a-4576-48b1-8b6d-1b5b9a455dfc",
   "metadata": {},
   "outputs": [],
   "source": [
    "import numpy as np\n",
    "import csv"
   ]
  },
  {
   "cell_type": "code",
   "execution_count": 20,
   "id": "db85770b-fa1e-4b60-9880-3b98267b0e6e",
   "metadata": {},
   "outputs": [],
   "source": [
    "result = {'alpha': [],\n",
    "         'mean_mmse': [],\n",
    "         'std_mmse': []}"
   ]
  },
  {
   "cell_type": "code",
   "execution_count": 21,
   "id": "c836cd18-9593-4388-a40c-98dde130fde9",
   "metadata": {},
   "outputs": [],
   "source": [
    "alphas = np.linspace(0.1, 0.9, 9)\n",
    "qdata = np.loadtxt('overlap_alpha_0.1_0.9.csv', delimiter=',')\n",
    "qmean = np.mean(qdata, axis=0)\n",
    "qstd = np.std(qdata, axis=0)\n",
    "result['alpha'] += list(np.round(alphas, 1))\n",
    "result['mean_mmse'] += list(1-qmean)\n",
    "result['std_mmse'] += list(qstd)\n",
    "\n",
    "alphas = np.linspace(1, 1.5, 6)\n",
    "qdata = np.loadtxt('overlap_alpha_1_1.5.csv', delimiter=',')\n",
    "qmean = np.mean(qdata, axis=0)\n",
    "qstd = np.std(qdata, axis=0)\n",
    "result['alpha'] += list(np.round(alphas, 1))\n",
    "result['mean_mmse'] += list(1-qmean)\n",
    "result['std_mmse'] += list(qstd)\n",
    "\n",
    "alphas = np.linspace(1.6, 1.9, 4)\n",
    "qdata = np.loadtxt('overlap_alpha_1.6_1.9.csv', delimiter=',')\n",
    "qmean = np.mean(qdata, axis=0)\n",
    "qstd = np.std(qdata, axis=0)\n",
    "result['alpha'] += list(np.round(alphas, 1))\n",
    "result['mean_mmse'] += list(1-qmean)\n",
    "result['std_mmse'] += list(qstd)\n",
    "\n",
    "alphas = np.linspace(2, 3, 11)\n",
    "qdata = np.loadtxt('overlap_alpha_2_3.csv', delimiter=',')\n",
    "qmean = np.mean(qdata, axis=0)\n",
    "qstd = np.std(qdata, axis=0)\n",
    "result['alpha'] += list(np.round(alphas, 1))\n",
    "result['mean_mmse'] += list(1-qmean)\n",
    "result['std_mmse'] += list(qstd)\n",
    "\n",
    "alphas = np.linspace(3.1, 4, 10)\n",
    "qdata = np.loadtxt('overlap_alpha_3.1_4.csv', delimiter=',')\n",
    "qmean = np.mean(qdata, axis=0)\n",
    "qstd = np.std(qdata, axis=0)\n",
    "result['alpha'] += list(np.round(alphas, 1))\n",
    "result['mean_mmse'] += list(1-qmean)\n",
    "result['std_mmse'] += list(qstd)"
   ]
  },
  {
   "cell_type": "code",
   "execution_count": 22,
   "id": "d2c4189a-2267-42f4-b2f8-1e958577feff",
   "metadata": {},
   "outputs": [],
   "source": [
    "with open(\"result.csv\", mode=\"w\", newline=\"\") as file:\n",
    "    writer = csv.DictWriter(file, fieldnames=result.keys())\n",
    "    writer.writeheader()\n",
    "    writer.writerows(dict(zip(result.keys(), values)) for values in zip(*result.values()))"
   ]
  }
 ],
 "metadata": {
  "kernelspec": {
   "display_name": "Python 3 (ipykernel)",
   "language": "python",
   "name": "python3"
  },
  "language_info": {
   "codemirror_mode": {
    "name": "ipython",
    "version": 3
   },
   "file_extension": ".py",
   "mimetype": "text/x-python",
   "name": "python",
   "nbconvert_exporter": "python",
   "pygments_lexer": "ipython3",
   "version": "3.8.10"
  }
 },
 "nbformat": 4,
 "nbformat_minor": 5
}
