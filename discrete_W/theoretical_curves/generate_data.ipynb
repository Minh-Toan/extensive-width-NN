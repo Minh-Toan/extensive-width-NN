{
 "cells": [
  {
   "cell_type": "code",
   "execution_count": 1,
   "id": "8d703892-5bd3-4204-b0ec-900a6e460590",
   "metadata": {},
   "outputs": [],
   "source": [
    "import numpy as np\n",
    "import sys\n",
    "import os\n",
    "folder = os.path.abspath(os.path.join(os.getcwd(), '..'))\n",
    "sys.path.insert(0, folder)\n",
    "import theory_specialization as spe\n",
    "import theory_universal as uni\n",
    "import activations as act\n",
    "import csv"
   ]
  },
  {
   "cell_type": "code",
   "execution_count": 4,
   "id": "c90c809a-d0dd-4121-8282-14f1d64fd7d9",
   "metadata": {},
   "outputs": [],
   "source": [
    "gamma = 0.5\n",
    "Delta = \n",
    "activation = 'ELU'\n",
    "vlaw = 'ones'\n",
    "alphas = np.linspace(1e-4, 4, 201)\n",
    "result1 = [uni.quantities(vlaw, activation, alpha, gamma, Delta) for alpha in alphas]\n",
    "result2 = [spe.quantities(activation, alpha, gamma, Delta) for alpha in alphas]"
   ]
  },
  {
   "cell_type": "code",
   "execution_count": 5,
   "id": "6b5c976f-cb98-4f53-a96c-8b908d03939b",
   "metadata": {},
   "outputs": [],
   "source": [
    "with open(fr'{activation}_Delta_{Delta}_gamma_{gamma}_v_{vlaw}_uni.csv', mode=\"w\", newline=\"\", encoding=\"utf-8\") as file:\n",
    "    writer = csv.DictWriter(file, fieldnames=result1[0].keys())\n",
    "    writer.writeheader()\n",
    "    writer.writerows(result1)\n",
    "    \n",
    "with open(fr'{activation}_Delta_{Delta}_gamma_{gamma}_v_{vlaw}_spe.csv', mode=\"w\", newline=\"\", encoding=\"utf-8\") as file:\n",
    "    writer = csv.DictWriter(file, fieldnames=result2[0].keys())\n",
    "    writer.writeheader()\n",
    "    writer.writerows(result2)"
   ]
  }
 ],
 "metadata": {
  "kernelspec": {
   "display_name": "Python 3 (ipykernel)",
   "language": "python",
   "name": "python3"
  },
  "language_info": {
   "codemirror_mode": {
    "name": "ipython",
    "version": 3
   },
   "file_extension": ".py",
   "mimetype": "text/x-python",
   "name": "python",
   "nbconvert_exporter": "python",
   "pygments_lexer": "ipython3",
   "version": "3.8.10"
  }
 },
 "nbformat": 4,
 "nbformat_minor": 5
}
